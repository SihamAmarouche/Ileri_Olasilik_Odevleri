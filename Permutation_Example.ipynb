{
  "nbformat": 4,
  "nbformat_minor": 0,
  "metadata": {
    "colab": {
      "name": "Permutation_Example.ipynb",
      "version": "0.3.2",
      "provenance": [],
      "collapsed_sections": [],
      "include_colab_link": true
    },
    "kernelspec": {
      "name": "python3",
      "display_name": "Python 3"
    }
  },
  "cells": [
    {
      "cell_type": "markdown",
      "metadata": {
        "id": "view-in-github",
        "colab_type": "text"
      },
      "source": [
        "<a href=\"https://colab.research.google.com/github/SihamAmarouche/Ileri_Olasilik_Odevleri/blob/master/Permutation_Example.ipynb\" target=\"_parent\"><img src=\"https://colab.research.google.com/assets/colab-badge.svg\" alt=\"Open In Colab\"/></a>"
      ]
    },
    {
      "metadata": {
        "id": "uc2nZfIBoOty",
        "colab_type": "text"
      },
      "cell_type": "markdown",
      "source": [
        "\n",
        "\n",
        "---\n",
        "\n",
        "\n",
        "###Permütasyon :\n",
        "\n",
        "Matematikte permütasyon, her sembolün sadece bir kez ya da birkaç kez kullanıldığı sıralı bir dizidir. Permütasyonda elemanların sırası önemlidir .Eleman sayısı n olan bir kümenin içinden r kadar eleman seçerek yapılabilecek permütasyonlar aşağıdaki formülle hesaplanır :\n",
        "\n",
        "![per](https://user-images.githubusercontent.com/10710980/54827564-5e8ad000-4cc3-11e9-8ab9-83d8323967d1.PNG)\n",
        "\n",
        "***Örnek :***\n",
        "\n",
        "6 sayımız vardır .Oluşturulacak rakamlar r haneden olacağını düşünelim oluşturabilecağımız rakamlar kaç farklı şekilde yazılabilir ?\n",
        "\n",
        "***Cevap:***\n",
        "\n",
        "Bu örnek için eleman sırası bizim için önemli olduğundan dolayı permütasyon formülü ile çözülür.\n",
        "\n",
        "\n",
        "\n",
        "---\n",
        "\n",
        "\n",
        "\n",
        "***Script Code :***\n",
        "\n",
        "Permutation_Example.py"
      ]
    },
    {
      "metadata": {
        "id": "nJ-bup2drrYE",
        "colab_type": "code",
        "colab": {}
      },
      "cell_type": "code",
      "source": [
        "import math;\n",
        "import itertools;\n",
        "\n",
        "def InputKontrol(GirilenSayi):\n",
        "    if not GirilenSayi.isdigit():\n",
        "        return False\n",
        "    elif (int(GirilenSayi)<2 or int(GirilenSayi)>6):\n",
        "        return False\n",
        "    else:\n",
        "        return True\n",
        "\n",
        "\n",
        "def factorial(n):\n",
        "    if n==0:\n",
        "        return 1\n",
        "    else:\n",
        "        return n * factorial(n-1)\n",
        "\n",
        "def convertTuple(tup):\n",
        "    str =  ''.join(tup)\n",
        "    return str\n",
        "\n",
        "rakam_liste = [1,2,4,3,9,7]\n",
        "girilen_Sayi=input(\"Oluşturulacak rakam kaç haneden olacak bir sayı giriniz Lütfen!!(2 ile 6 aralığında olmalı):\")\n",
        "\n",
        "kontrol_sonucu=InputKontrol(girilen_Sayi)\n",
        "if kontrol_sonucu==True:\n",
        "    permutations = itertools.permutations(rakam_liste, int(girilen_Sayi))\n",
        "\n",
        "    for p in permutations:\n",
        "        print (p)\n",
        "\n",
        "    int_girilen_Sayi=int(girilen_Sayi)\n",
        "    p_sonucu = factorial(len(rakam_liste)) / factorial((len(rakam_liste) - int(girilen_Sayi)))\n",
        "    print(\"%d Basamaklı Oluşturulabilecek Rakam Sayısı(Permütasyon Sonucu): %d\" %(int_girilen_Sayi,p_sonucu))\n",
        "\n",
        "elif kontrol_sonucu==False:\n",
        "    print(\"Lütfen İstenilen Aralıkta Olan(2 ile 6 aralığında) Bir Sayı Girin !!\")\n"
      ],
      "execution_count": 0,
      "outputs": []
    },
    {
      "metadata": {
        "id": "q8C67i8OserD",
        "colab_type": "text"
      },
      "cell_type": "markdown",
      "source": [
        "###Permütasyon ve Kombinasyon ile aralarındaki fark ve formül karşılaşması :\n",
        "\n",
        "Permütasyonda dizi elemanların sırası önemlidir, Kombinasyonda ise sıra önemli olmadığı durum.\n",
        "Formüller aşağıdaki gibidir :\n",
        "\n",
        "![per_kombinasyon_ (2)](https://user-images.githubusercontent.com/10710980/54828596-9561e580-4cc5-11e9-8656-ccbc20b37fb3.jpg)\n"
      ]
    }
  ]
}