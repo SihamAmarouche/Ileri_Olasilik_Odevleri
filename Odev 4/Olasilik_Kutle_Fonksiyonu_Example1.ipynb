{
  "nbformat": 4,
  "nbformat_minor": 0,
  "metadata": {
    "colab": {
      "name": "Olasilik_Kutle_Fonksiyonu_Example1.ipynb",
      "version": "0.3.2",
      "provenance": [],
      "collapsed_sections": [],
      "include_colab_link": true
    },
    "kernelspec": {
      "name": "python3",
      "display_name": "Python 3"
    }
  },
  "cells": [
    {
      "cell_type": "markdown",
      "metadata": {
        "id": "view-in-github",
        "colab_type": "text"
      },
      "source": [
        "<a href=\"https://colab.research.google.com/github/SihamAmarouche/Ileri_Olasilik_Odevleri/blob/master/Odev%204/Olasilik_Kutle_Fonksiyonu_Example1.ipynb\" target=\"_parent\"><img src=\"https://colab.research.google.com/assets/colab-badge.svg\" alt=\"Open In Colab\"/></a>"
      ]
    },
    {
      "cell_type": "markdown",
      "metadata": {
        "id": "Exkmwi5an_Tw",
        "colab_type": "text"
      },
      "source": [
        "\n",
        "\n",
        "---\n",
        "### Olasılık Kütle Fonksiyon (PMF) :\n",
        "Olasılık kuramı bilim dalında bir olasılık kütle fonksiyonu bir aralık rassal değişkenin olasılığının tıpatıp belli bir değere eşit olduğunu gösteren bir fonksiyondur. Olasılık kütle fonksiyonu, olasılık yoğunluk fonsiyonundan farklıdır, çünkü olasılık yoğunluk fonksiyonu yalnızca sürekli rassal değişkenler için tanımlanmış olup doğrudan doğruya olasılık değerini vermezler. Olasılık yoğunluk fonksiyonunun bir belli değer aralığı (yani a ve b değerleri aralığı) için integrali alinirsa bu rassal değişkenin belirlenen değer aralığı için olasılığını verir.\n",
        "\n",
        "---\n",
        "![image](https://user-images.githubusercontent.com/10710980/57048943-ccd98f80-6c7e-11e9-9d77-9386d4b6a718.png)\n",
        "\n",
        "---\n",
        "#### Matematiksel tanımlama :\n",
        "Sayılabilir değerler için fX(x) olasılık kütle fonksiyonu, şöyle ifade edilir :\n",
        "\n",
        "![image](https://user-images.githubusercontent.com/10710980/57049070-50937c00-6c7f-11e9-81b7-af2d5c1a796a.png)\n",
        "\n",
        "\n",
        "---\n",
        "\n",
        "#### Example :\n",
        "\n",
        "0,1,2,3'lü Çocuk sahibi olan aileler bulunmakta farklı aileler farklı sayılı çocuk sahibi olmakta örneğin aşağıdaki tabloda gösterildiği gibi ; sizden bu örneğe ait olasılık kütle fonksiyonunun dağılımı göstermeniz istenmektedir :\n",
        "\n",
        "![image](https://user-images.githubusercontent.com/10710980/57141466-eb48a380-6dc2-11e9-9bcd-11c2445b1aeb.png)\n",
        "\n",
        "#### Çözüm :\n",
        "\n",
        "Olasılık kütle fonksiyonunun dağılımı aşağıdaki grafta gösterildiği gibidir :\n",
        "\n",
        "![image](https://user-images.githubusercontent.com/10710980/57141560-25b24080-6dc3-11e9-99e4-145ff1d01a14.png)\n",
        "\n",
        "#### Örneğin Kodları:\n",
        "Olasilik_Kutle_Fonksiyonu_Example1.py\n",
        "\n",
        "\n"
      ]
    },
    {
      "cell_type": "code",
      "metadata": {
        "id": "TkPHdYYezgrg",
        "colab_type": "code",
        "colab": {
          "base_uri": "https://localhost:8080/",
          "height": 689
        },
        "outputId": "a68cbc82-e793-42c1-b714-e8d478b2419c"
      },
      "source": [
        "import matplotlib.pyplot as plt\n",
        "import seaborn as sns\n",
        "from prettytable import PrettyTable\n",
        "from math import sqrt\n",
        "\n",
        "\n",
        "#### Aile Sayisi Listesi\n",
        "aileSayisi_array = list()\n",
        "cocuk_sayaci=0\n",
        "aile_Sum=0\n",
        "Beklenen_Deger=0\n",
        "EX_XKaresi = 0\n",
        "Varyans = 0\n",
        "\n",
        "print ('*** Her Çocuk Sayısı İçin Sahip Olan Aile Sayısı Girinizi Lütfen !! ***')\n",
        "\n",
        "for i in range(4):\n",
        "    n = input(\"%d Çocuk Sahip Olan Aile Sayısını Giriniz :\" %cocuk_sayaci)\n",
        "    aileSayisi_array.append(int(n))\n",
        "    aile_Sum+=int(n)\n",
        "    cocuk_sayaci+=1\n",
        "\n",
        "#### Cocuk Sayisi Listesi\n",
        "print(\"\")\n",
        "Cocuk_Sayisi=[0,1,2,3]\n",
        "\n",
        "\n",
        "#### PMF Olasiligi Listesi\n",
        "pmf_Olasiligi  = list()\n",
        "for i in range(4):\n",
        "    pmf_Olasiligi.append(aileSayisi_array[i]/aile_Sum)\n",
        "\n",
        "table = PrettyTable(['Çocuk Sayısı','Aile Sayısı(Frekans)','PMF Olasılığı f(x)'])\n",
        "for i in range(4):\n",
        "    table.add_row([Cocuk_Sayisi[i],aileSayisi_array[i],pmf_Olasiligi[i]])\n",
        "\n",
        "print(table)\n",
        "\n",
        "print(\"Olasılık Kütle Fonksiyonuna Göre Aşağıdaki Olasılıkların Değerleri Bulunmakta !!\")\n",
        "print(\" P(X = 1) = %.2f\" %pmf_Olasiligi[1])\n",
        "print(\" P(X = 0) = %.2f\" %pmf_Olasiligi[0])\n",
        "print(\" P(X = 3) = %.2f\" %pmf_Olasiligi[3])\n",
        "print(\" P(1 < X <= 3) = P(X=2) + P(X=3) = %.2f\" %(pmf_Olasiligi[2]+pmf_Olasiligi[3]))\n",
        "print(\" P(0 <= X <= 2) = P(X=0) + P(X=1) + P(X=2) = %.2f\" %(pmf_Olasiligi[0]+pmf_Olasiligi[1]+pmf_Olasiligi[2]))\n",
        "print(\" P(1 <= X <= 2) = P(X=1) + P(X=2) = %.2f\" %(pmf_Olasiligi[1]+pmf_Olasiligi[2]))\n",
        "print(\"\")\n",
        "\n",
        "for i in range(4):\n",
        "    Beklenen_Deger += Cocuk_Sayisi[i]*pmf_Olasiligi[i]\n",
        "\n",
        "for i in range(4):\n",
        "    EX_XKaresi += sqrt(Cocuk_Sayisi[i])*pmf_Olasiligi[i]\n",
        "Varyans = EX_XKaresi - sqrt(Beklenen_Deger)\n",
        "print(\"Olasılık Dağılımın Beklenen Değeri E[X] ve Varyansı Var[X] Bulunmakta !!\")\n",
        "print(\"E[X] = ΣxP(X=x) = %.3f\" %Beklenen_Deger)\n",
        "print(\"Var[X] = E[X^2] - (E[X])^2 = %.3f \" %Varyans)\n",
        "\n",
        "# Dagilimin garfigi cizdirme\n",
        "sns.barplot(Cocuk_Sayisi,pmf_Olasiligi)\n",
        "plt.show()\n"
      ],
      "execution_count": 1,
      "outputs": [
        {
          "output_type": "stream",
          "text": [
            "*** Her Çocuk Sayısı İçin Sahip Olan Aile Sayısı Girinizi Lütfen !! ***\n",
            "0 Çocuk Sahip Olan Aile Sayısını Giriniz :24\n",
            "1 Çocuk Sahip Olan Aile Sayısını Giriniz :32\n",
            "2 Çocuk Sahip Olan Aile Sayısını Giriniz :26\n",
            "3 Çocuk Sahip Olan Aile Sayısını Giriniz :12\n",
            "\n",
            "+--------------+----------------------+--------------------+\n",
            "| Çocuk Sayısı | Aile Sayısı(Frekans) | PMF Olasılığı f(x) |\n",
            "+--------------+----------------------+--------------------+\n",
            "|      0       |          24          | 0.2553191489361702 |\n",
            "|      1       |          32          | 0.3404255319148936 |\n",
            "|      2       |          26          | 0.2765957446808511 |\n",
            "|      3       |          12          | 0.1276595744680851 |\n",
            "+--------------+----------------------+--------------------+\n",
            "Olasılık Kütle Fonksiyonuna Göre Aşağıdaki Olasılıkların Değerleri Bulunmakta !!\n",
            " P(X = 1) = 0.34\n",
            " P(X = 0) = 0.26\n",
            " P(X = 3) = 0.13\n",
            " P(1 < X <= 3) = P(X=2) + P(X=3) = 0.40\n",
            " P(0 <= X <= 2) = P(X=0) + P(X=1) + P(X=2) = 0.87\n",
            " P(1 <= X <= 2) = P(X=1) + P(X=2) = 0.62\n",
            "\n",
            "Olasılık Dağılımın Beklenen Değeri E[X] ve Varyansı Var[X] Bulunmakta !!\n",
            "E[X] = ΣxP(X=x) = 1.277\n",
            "Var[X] = E[X^2] - (E[X])^2 = -0.177 \n"
          ],
          "name": "stdout"
        },
        {
          "output_type": "display_data",
          "data": {
            "image/png": "[encoded data removed]",
            "text/plain": [
              "<Figure size 432x288 with 1 Axes>"
            ]
          },
          "metadata": {
            "tags": []
          }
        }
      ]
    }
  ]
}