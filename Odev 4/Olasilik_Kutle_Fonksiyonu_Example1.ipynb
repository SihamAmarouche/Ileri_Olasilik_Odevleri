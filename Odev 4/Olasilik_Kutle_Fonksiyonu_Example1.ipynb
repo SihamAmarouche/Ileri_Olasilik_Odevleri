{
  "nbformat": 4,
  "nbformat_minor": 0,
  "metadata": {
    "colab": {
      "name": "Olasilik_Kutle_Fonksiyonu_Example1.ipynb",
      "version": "0.3.2",
      "provenance": [],
      "collapsed_sections": [],
      "include_colab_link": true
    },
    "kernelspec": {
      "name": "python3",
      "display_name": "Python 3"
    }
  },
  "cells": [
    {
      "cell_type": "markdown",
      "metadata": {
        "id": "view-in-github",
        "colab_type": "text"
      },
      "source": [
        "<a href=\"https://colab.research.google.com/github/SihamAmarouche/Ileri_Olasilik_Odevleri/blob/master/Odev%204/Olasilik_Kutle_Fonksiyonu_Example1.ipynb\" target=\"_parent\"><img src=\"https://colab.research.google.com/assets/colab-badge.svg\" alt=\"Open In Colab\"/></a>"
      ]
    },
    {
      "cell_type": "markdown",
      "metadata": {
        "id": "Exkmwi5an_Tw",
        "colab_type": "text"
      },
      "source": [
        "\n",
        "\n",
        "---\n",
        "### Olasılık Kütle Fonksiyon (PMF) :\n",
        "Olasılık kuramı bilim dalında bir olasılık kütle fonksiyonu bir aralık rassal değişkenin olasılığının tıpatıp belli bir değere eşit olduğunu gösteren bir fonksiyondur. Olasılık kütle fonksiyonu, olasılık yoğunluk fonsiyonundan farklıdır, çünkü olasılık yoğunluk fonksiyonu yalnızca sürekli rassal değişkenler için tanımlanmış olup doğrudan doğruya olasılık değerini vermezler. Olasılık yoğunluk fonksiyonunun bir belli değer aralığı (yani a ve b değerleri aralığı) için integrali alinirsa bu rassal değişkenin belirlenen değer aralığı için olasılığını verir.\n",
        "\n",
        "---\n",
        "![image](https://user-images.githubusercontent.com/10710980/57048943-ccd98f80-6c7e-11e9-9d77-9386d4b6a718.png)\n",
        "\n",
        "---\n",
        "#### Matematiksel tanımlama :\n",
        "Sayılabilir değerler için fX(x) olasılık kütle fonksiyonu, şöyle ifade edilir :\n",
        "\n",
        "![image](https://user-images.githubusercontent.com/10710980/57049070-50937c00-6c7f-11e9-81b7-af2d5c1a796a.png)\n",
        "\n",
        "\n",
        "---\n",
        "\n",
        "#### Example 1:\n",
        "Bir firma inşaat malzemeleri almak ister bu malzemeleri almak için aşağıdaki tabloda gösterildiği gibi farklı farklı malzeme sayısı alınmakta;  bu örneğe ait olasılık kütle fonksiyonunun dağılımı gösterelim :\n",
        "\n",
        "![image](https://user-images.githubusercontent.com/10710980/57132692-08707880-6da9-11e9-91aa-8ae50c00b2e9.png)\n",
        "#### Çözüm :\n",
        "Olasılık kütle fonksiyonunun dağılımı aşağıdaki grafta gösterildiği gibidir :\n",
        "\n",
        "![image](https://user-images.githubusercontent.com/10710980/57132784-56857c00-6da9-11e9-9f85-d3f10122784a.png)\n",
        "\n",
        "#### Örneğin Kodları:\n",
        "Olasilik_Kutle_Fonksiyonu.py\n",
        "\n"
      ]
    },
    {
      "cell_type": "code",
      "metadata": {
        "id": "TkPHdYYezgrg",
        "colab_type": "code",
        "colab": {}
      },
      "source": [
        "import numpy as np\n",
        "import pandas as pd\n",
        "import matplotlib.pyplot as plt\n",
        "import seaborn as sns\n",
        "\n",
        "\n",
        "data ={'Insaat_Malzemeleri':['Ahşap','Çimento Torbası','Cam Levhası','Demir','Plastik'],\n",
        "       'Malzeme_Sayisi':[300,450,250,530,120]}\n",
        "\n",
        "df = pd.DataFrame(data)\n",
        "df[\"pmf_olasiligi\"] = df[\"Malzeme_Sayisi\"]/df[\"Malzeme_Sayisi\"].sum()\n",
        "df\n",
        "\n",
        "sns.barplot(df[\"Insaat_Malzemeleri\"],df[\"pmf_olasiligi\"])\n",
        "plt.show()"
      ],
      "execution_count": 0,
      "outputs": []
    }
  ]
}