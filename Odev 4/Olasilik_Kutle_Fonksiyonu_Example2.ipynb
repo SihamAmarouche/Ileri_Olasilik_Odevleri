{
  "nbformat": 4,
  "nbformat_minor": 0,
  "metadata": {
    "colab": {
      "name": "Olasilik_Kutle_Fonksiyonu_Example2.ipynb",
      "version": "0.3.2",
      "provenance": [],
      "collapsed_sections": [],
      "include_colab_link": true
    },
    "kernelspec": {
      "name": "python3",
      "display_name": "Python 3"
    }
  },
  "cells": [
    {
      "cell_type": "markdown",
      "metadata": {
        "id": "view-in-github",
        "colab_type": "text"
      },
      "source": [
        "<a href=\"https://colab.research.google.com/github/SihamAmarouche/Ileri_Olasilik_Odevleri/blob/master/Odev%204/Olasilik_Kutle_Fonksiyonu_Example2.ipynb\" target=\"_parent\"><img src=\"https://colab.research.google.com/assets/colab-badge.svg\" alt=\"Open In Colab\"/></a>"
      ]
    },
    {
      "cell_type": "markdown",
      "metadata": {
        "id": "b6RtWg9bUdGB",
        "colab_type": "text"
      },
      "source": [
        "\n",
        "\n",
        "---\n",
        "\n",
        "#### Example 1:\n",
        "Bir firma inşaat malzemeleri almak ister bu malzemeleri almak için aşağıdaki tabloda gösterildiği gibi farklı farklı malzeme sayısı alınmakta;  bu örneğe ait olasılık kütle fonksiyonunun dağılımı gösterelim :\n",
        "\n",
        "![image](https://user-images.githubusercontent.com/10710980/57133377-440c4200-6dab-11e9-8c7a-753673ac3bac.png)\n",
        "#### Çözüm :\n",
        "Olasılık kütle fonksiyonunun dağılımı aşağıdaki grafta gösterildiği gibidir :\n",
        "\n",
        "![image](https://user-images.githubusercontent.com/10710980/57132784-56857c00-6da9-11e9-9f85-d3f10122784a.png)\n",
        "\n",
        "#### Örneğin Kodları:\n",
        "Olasilik_Kutle_Fonksiyonu.py"
      ]
    },
    {
      "cell_type": "code",
      "metadata": {
        "id": "mynyue7g882q",
        "colab_type": "code",
        "colab": {}
      },
      "source": [
        "import pandas as pd\n",
        "import matplotlib.pyplot as plt\n",
        "import seaborn as sns\n",
        "\n",
        "\n",
        "data ={'Insaat_Malzemeleri':['Ahşap','Çimento Torbası','Cam Levhası','Demir','Plastik'],\n",
        "       'Malzeme_Sayisi':[300,450,250,530,120]}\n",
        "\n",
        "df = pd.DataFrame(data)\n",
        "df[\"pmf_olasiligi\"] = df[\"Malzeme_Sayisi\"]/df[\"Malzeme_Sayisi\"].sum()\n",
        "df\n",
        "\n",
        "sns.barplot(df[\"Insaat_Malzemeleri\"],df[\"pmf_olasiligi\"])\n",
        "plt.show()"
      ],
      "execution_count": 0,
      "outputs": []
    }
  ]
}