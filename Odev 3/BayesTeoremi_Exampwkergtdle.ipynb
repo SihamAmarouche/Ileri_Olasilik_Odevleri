{
  "nbformat": 4,
  "nbformat_minor": 0,
  "metadata": {
    "colab": {
      "name": "BayesTeoremi_Example.ipynb",
      "version": "0.3.2",
      "provenance": [],
      "collapsed_sections": [],
      "include_colab_link": true
    },
    "kernelspec": {
      "name": "python3",
      "display_name": "Python 3"
    }
  },
  "cells": [
    {
      "cell_type": "markdown",
      "metadata": {
        "id": "view-in-github",
        "colab_type": "text"
      },
      "source": [
        "<a href=\"https://colab.research.google.com/github/SihamAmarouche/Ileri_Olasilik_Odevleri/blob/master/Odev%203/BayesTeoremi_Example.ipynb\" target=\"_parent\"><img src=\"https://colab.research.google.com/assets/colab-badge.svg\" alt=\"Open In Colab\"/></a>"
      ]
    },
    {
      "metadata": {
        "id": "tfeRbSvmsF9G",
        "colab_type": "text"
      },
      "cell_type": "markdown",
      "source": [
        "\n",
        "\n",
        "---\n",
        "##Bayes Teoremi :\n",
        "\n",
        "***Bayes teoremi***, olasılık kuramı içinde incelenen önemli bir konudur. Bu teorem bir rassal değişken için olasılık dağılımı içinde koşullu olasılıklar ile marjinal olasılıklar arasındaki ilişkiyi gösterir. Bu şekli ile Bayes teoremi bütün istatistikçiler için kabul edilir bir ilişkiyi açıklar.\n",
        "\n",
        "Olasılık teorisi içinde incelenen bir 'olay olarak B olayına koşullu bir A olayı (yani B olayının bilindiği halde A olayı) için olasılık değeri, A olayına koşullu olarak B olayı (yani A olayı bilindiği haldeki B olayı) için olasılık değerinden farklıdır. Ancak bu iki birbirine ters koşulluluk arasında çok belirli bir ilişki vardır ve bu ilişkiye (ilk açıklayan ***istatistikçi İngiliz Thomas Bayes (1702–1761)*** adına atfen) Bayes Teoremi denilmektedir.\n",
        "\n",
        "\n",
        "\n",
        "\n",
        "\n",
        "---\n",
        "\n",
        "***Örnek:***\n",
        "\n",
        "Tüm E-postaların %60'ı spam,tüm spamların %90'ı sahte üst bilgiye sahiptir. Spam olmayanların %20'si sahte üst bilgiye sahiptir.\n",
        "Bir E-postanın sahte üst bilgiye sahip olup, spam olma olasılığı nedir ?\n",
        "\n",
        "***Çözüm: ***\n",
        "\n",
        "Bu örnek koşullu olasılık içremektedir, bu yüzden problemi çözmek için Bayes Teoremini kullanılacaktır.\n",
        "\n",
        "\n",
        "---\n",
        "\n",
        "\n",
        "\n",
        "![Bayesexample](https://user-images.githubusercontent.com/10710980/56024326-6e249400-5d18-11e9-9aa1-f3484c38a076.PNG)"
      ]
    },
    {
      "metadata": {
        "id": "mPmO3K57dEGQ",
        "colab_type": "text"
      },
      "cell_type": "markdown",
      "source": [
        "###*BayesTeoremi_Example.py*\n"
      ]
    },
    {
      "metadata": {
        "id": "iH1aFgKbdaUN",
        "colab_type": "code",
        "colab": {
          "base_uri": "https://localhost:8080/",
          "height": 538
        },
        "outputId": "a4c51e19-0fef-4e4f-ca72-4c88ddf9f59c"
      },
      "cell_type": "code",
      "source": [
        "import math;\n",
        "\n",
        "def InputKontrol(GirilenSayi):\n",
        "    if not GirilenSayi.isdigit():\n",
        "        return False\n",
        "    elif (int(GirilenSayi) == 0):\n",
        "        return 10\n",
        "    elif (int(GirilenSayi) < 1 or int(GirilenSayi) > 6):\n",
        "        return False\n",
        "    else:\n",
        "        return True\n",
        "\n",
        "print(\"Tüm E-postaların %60'ı spam,tüm spamların %90'ı sahte üst bilgiye sahiptir.\\n\"\n",
        "      \"Spam olmayanların %20'si sahte üst bilgiye sahiptir.\\n\")\n",
        "print(\"#*#*#*#*#*#*#*#*#*#*#*#*#*   Bilinen Olasılıklar   #*#*#*#*#*#*#*#*#*#*#*#*#**#*#**#*#\")\n",
        "print(\"P(Spam) = %.2f , P(NonSpam) = %.2f\" %(0.60,0.40))\n",
        "print(\"P(SahteUstbilgi/Spam) = %.2f , P(NormalUstbilgi/Spam) = %.2f\" %(0.90,0.10))\n",
        "print(\"P(SahteUstbilgi/NonSpam) = %.2f , P(NormalUstbilgi/NonSpam) = %.2f\\n\" %(0.20,0.80))\n",
        "\n",
        "print(\"#*#*#*#*#*#*#*#*#*#*#*#*#*#*#*#*#*#   SORULAR   #*#*#*#*#*#*#*#*#*#*#*#*#**#*#*#*#*#*#\")\n",
        "print(\"1.Bir E-postanin sahte bilgiye sahip olup,spam olma olasılığı nedir?\")\n",
        "print(\"2.Bir E-postanin sahte bilgiye sahip olup,spam olmayan bir E-posta olma olasılığı nedir?\")\n",
        "print(\"3.Bir E-postanin normal üst bilgiye sahip olup,spam olma olasılığı nedir?\")\n",
        "print(\"4.Bir E-postanin normal üst bilgiye sahip olup,spam olmayan bir E-posta olma olasılığı nedir?\")\n",
        "print(\"5.Bir E-postanin sahte üst bilgiye sahip olma olasılığı nedir?\")\n",
        "print(\"6.Bir E-postanin normal üst bilgiye sahip olma olasılığı nedir?\")\n",
        "\n",
        "## değişkenlerde olan _ işareti koşullu olasılığa işaret etmekte / işaretinin yerine kullanıldı !!\n",
        "\n",
        "PSpam=0.60               # Bir Epostanın spam olma olasılığı\n",
        "PNonSpam=0.4             # Bir Epostanın spam olmama olasılığı\n",
        "PSahteUst_Spam=0.90      # Bir Epostanın Spam olduğunu bilindiğine göre Sahte üst bilgiye sahip olma olasılığı\n",
        "PNormalUst_Spam=0.10     # Bir Epostanın Spam olduğunu bilindiğine göre Normal üst bilgiye sahip olma olasılığı\n",
        "PSahteUst_NonSpam=0.20   # Bir Epostanın Spam olmadığını bilindiğine göre Sahte üst bilgiye sahip olma olasılığı\n",
        "PNormalUst_NonSpam=0.80  # Bir Epostanın Spam olmadığını bilindiğine göre Normal üst bilgiye sahip olma olasılığı\n",
        "\n",
        "PSahteUstbilgi = PSpam*PSahteUst_Spam + PNonSpam*PSahteUst_NonSpam\n",
        "PNormalUstbilgi= PSpam*PNormalUst_Spam  + PNonSpam*PNormalUst_NonSpam\n",
        "\n",
        "while True:\n",
        "    girilen_Sayi = input(\n",
        "        \"\\nCevaplamak istediğiniz bir soru varsa Lütfen numarasını giriniz(1 ile 6 arasında) !!\"\n",
        "        \"\\nProgramı durdurmak için 0'a basınız!!\")\n",
        "\n",
        "    if InputKontrol(girilen_Sayi) == True:\n",
        "        int_girilen_Sayi = int(girilen_Sayi)\n",
        "        if int_girilen_Sayi == 1:\n",
        "            p_sonucu = (PSahteUst_Spam * PSpam) / PSahteUstbilgi\n",
        "            print(\"%d. sorunun cevabı ===> P(Spam / SahteÜstBilgi) = %.3f %% olasılığı vardır\" % (int_girilen_Sayi, p_sonucu * 100))\n",
        "        elif int_girilen_Sayi == 2:\n",
        "            p_sonucu = (PSahteUst_NonSpam * PNonSpam) / PSahteUstbilgi\n",
        "            print(\"%d. sorunun cevabı ===> P(NonSpam / SahteÜstBilgi) = %.3f %% olasılığı vardır\" % (int_girilen_Sayi, p_sonucu * 100))\n",
        "        elif int_girilen_Sayi == 3:\n",
        "            p_sonucu = (PNormalUst_Spam * PSpam) / PNormalUstbilgi\n",
        "            print(\"%d. sorunun cevabı ===> P(Spam / NormalÜstBilgi) = %.3f %% olasılığı vardır\" % (int_girilen_Sayi, p_sonucu * 100))\n",
        "        elif int_girilen_Sayi == 4:\n",
        "            p_sonucu = (PNormalUst_NonSpam * PNonSpam) / PNormalUstbilgi\n",
        "            print(\"%d. sorunun cevabı ===> P(NonSpam / NormalÜstBilgi) = %.3f %% olasılığı vardır\" % (int_girilen_Sayi, p_sonucu * 100))\n",
        "        elif int_girilen_Sayi == 5:\n",
        "            print(\"%d. sorunun cevabı ===> P(SahteÜstBilgi) = %.3f %% olasılığı vardır\" % (int_girilen_Sayi, PSahteUstbilgi * 100))\n",
        "        elif int_girilen_Sayi == 6:\n",
        "            print(\"%d. sorunun cevabı ===> P(NormalÜstBilgi) = %.3f %% olasılığı vardır\" % (int_girilen_Sayi, PNormalUstbilgi * 100))\n",
        "\n",
        "    elif InputKontrol(girilen_Sayi) == 10:\n",
        "        print(\"Program Durduruldu !!\")\n",
        "        break;\n",
        "    elif InputKontrol(girilen_Sayi) == False:\n",
        "        print(\"Lütfen İstenilen Aralıkta Bir Sayı Giriniz (1 ile 6 arasında)!!\")\n"
      ],
      "execution_count": 4,
      "outputs": [
        {
          "output_type": "stream",
          "text": [
            "Tüm E-postaların %60'ı spam,tüm spamların %90'ı sahte üst bilgiye sahiptir.\n",
            "Spam olmayanların %20'si sahte üst bilgiye sahiptir.\n",
            "\n",
            "#*#*#*#*#*#*#*#*#*#*#*#*#*   Bilinen Olasılıklar   #*#*#*#*#*#*#*#*#*#*#*#*#**#*#**#*#\n",
            "P(Spam) = 0.60 , P(NonSpam) = 0.40\n",
            "P(SahteUstbilgi/Spam) = 0.90 , P(NormalUstbilgi/Spam) = 0.10\n",
            "P(SahteUstbilgi/NonSpam) = 0.20 , P(NormalUstbilgi/NonSpam) = 0.80\n",
            "\n",
            "#*#*#*#*#*#*#*#*#*#*#*#*#*#*#*#*#*#   SORULAR   #*#*#*#*#*#*#*#*#*#*#*#*#**#*#*#*#*#*#\n",
            "1.Bir E-postanin sahte bilgiye sahip olup,spam olma olasılığı nedir?\n",
            "2.Bir E-postanin sahte bilgiye sahip olup,spam olmayan bir E-posta olma olasılığı nedir?\n",
            "3.Bir E-postanin normal üst bilgiye sahip olup,spam olma olasılığı nedir?\n",
            "4.Bir E-postanin normal üst bilgiye sahip olup,spam olmayan bir E-posta olma olasılığı nedir?\n",
            "5.Bir E-postanin sahte üst bilgiye sahip olma olasılığı nedir?\n",
            "6.Bir E-postanin normal üst bilgiye sahip olma olasılığı nedir?\n",
            "\n",
            "Cevaplamak istediğiniz bir soru varsa Lütfen numarasını giriniz(1 ile 6 arasında) !!\n",
            "Programı durdurmak için 0'a basınız!!1\n",
            "1. sorunun cevabı ===> P(Spam / SahteÜstBilgi) = 87.097 % olasılığı vardır\n",
            "\n",
            "Cevaplamak istediğiniz bir soru varsa Lütfen numarasını giriniz(1 ile 6 arasında) !!\n",
            "Programı durdurmak için 0'a basınız!!2\n",
            "2. sorunun cevabı ===> P(NonSpam / SahteÜstBilgi) = 12.903 % olasılığı vardır\n",
            "\n",
            "Cevaplamak istediğiniz bir soru varsa Lütfen numarasını giriniz(1 ile 6 arasında) !!\n",
            "Programı durdurmak için 0'a basınız!!4\n",
            "4. sorunun cevabı ===> P(NonSpam / NormalÜstBilgi) = 84.211 % olasılığı vardır\n",
            "\n",
            "Cevaplamak istediğiniz bir soru varsa Lütfen numarasını giriniz(1 ile 6 arasında) !!\n",
            "Programı durdurmak için 0'a basınız!!0\n",
            "Program Durduruldu !!\n"
          ],
          "name": "stdout"
        }
      ]
    }
  ]
}
