{
  "nbformat": 4,
  "nbformat_minor": 0,
  "metadata": {
    "colab": {
      "name": "BayesTeoremi_Example.ipynb",
      "version": "0.3.2",
      "provenance": [],
      "collapsed_sections": [],
      "include_colab_link": true
    },
    "kernelspec": {
      "name": "python3",
      "display_name": "Python 3"
    }
  },
  "cells": [
    {
      "cell_type": "markdown",
      "metadata": {
        "id": "view-in-github",
        "colab_type": "text"
      },
      "source": [
        "<a href=\"https://colab.research.google.com/github/SihamAmarouche/Ileri_Olasilik_Odevleri/blob/master/Odev%203/BayesTeoremi_Example.ipynb\" target=\"_parent\"><img src=\"https://colab.research.google.com/assets/colab-badge.svg\" alt=\"Open In Colab\"/></a>"
      ]
    },
    {
      "metadata": {
        "id": "tfeRbSvmsF9G",
        "colab_type": "text"
      },
      "cell_type": "markdown",
      "source": [
        "\n",
        "\n",
        "---\n",
        "##Bayes Teoremi :\n",
        "\n",
        "***Bayes teoremi***, olasılık kuramı içinde incelenen önemli bir konudur. Bu teorem bir rassal değişken için olasılık dağılımı içinde koşullu olasılıklar ile marjinal olasılıklar arasındaki ilişkiyi gösterir. Bu şekli ile Bayes teoremi bütün istatistikçiler için kabul edilir bir ilişkiyi açıklar.\n",
        "\n",
        "Olasılık teorisi içinde incelenen bir 'olay olarak B olayına koşullu bir A olayı (yani B olayının bilindiği halde A olayı) için olasılık değeri, A olayına koşullu olarak B olayı (yani A olayı bilindiği haldeki B olayı) için olasılık değerinden farklıdır. Ancak bu iki birbirine ters koşulluluk arasında çok belirli bir ilişki vardır ve bu ilişkiye (ilk açıklayan ***istatistikçi İngiliz Thomas Bayes (1702–1761)*** adına atfen) Bayes Teoremi denilmektedir.\n",
        "\n",
        "\n",
        "\n",
        "---\n",
        "***Örnek:***\n",
        "\n",
        "Tüm E-postaların %60'ı spam,tüm spamların %90'ı sahte üst bilgiye sahiptir. Spam olmayanların %20'si sahte üst bilgiye sahiptir.\n",
        "Bir E-postanın sahte üst bilgiye sahip olup, spam olma olasılığı nedir ?\n",
        "\n",
        "***Çözüm: ***\n",
        "\n",
        "Bu örnek koşullu olasılık içremektedir, bu yüzden problemi çözmek için Bayes Teoremini kullanılacaktır.\n",
        "\n",
        "\n",
        "---\n",
        "\n",
        "\n",
        "\n",
        "![Bayesexample](https://user-images.githubusercontent.com/10710980/56024326-6e249400-5d18-11e9-9aa1-f3484c38a076.PNG)"
      ]
    }
  ]
}