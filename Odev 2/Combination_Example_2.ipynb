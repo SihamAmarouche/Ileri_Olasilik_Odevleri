{
  "nbformat": 4,
  "nbformat_minor": 0,
  "metadata": {
    "colab": {
      "name": "Combination_Example_2.ipynb",
      "version": "0.3.2",
      "provenance": [],
      "collapsed_sections": [],
      "include_colab_link": true
    },
    "kernelspec": {
      "name": "python3",
      "display_name": "Python 3"
    }
  },
  "cells": [
    {
      "cell_type": "markdown",
      "metadata": {
        "id": "view-in-github",
        "colab_type": "text"
      },
      "source": [
        "<a href=\"https://colab.research.google.com/github/SihamAmarouche/Ileri_Olasilik_Odevleri/blob/master/Odev%202/Combination_Example_2.ipynb\" target=\"_parent\"><img src=\"https://colab.research.google.com/assets/colab-badge.svg\" alt=\"Open In Colab\"/></a>"
      ]
    },
    {
      "metadata": {
        "id": "TE8Y-M5GG55S",
        "colab_type": "text"
      },
      "cell_type": "markdown",
      "source": [
        "\n",
        "\n",
        "---\n",
        "\n",
        "\n",
        "***Kombinasyon Örneği :***\n",
        "15 farklı meyvemiz mutfakta mevcuttur n tanesi seçilip tabakta misafirlere sunulacaktır .Kaç farklı şekilde sunabiliriz ?\n",
        "\n",
        "***Çözüm :*** Bu örnekte eleman sırası bizim için önemli değildir, bundan dolayı kombinasyon formülü ile çözülür.\n",
        "\n",
        "\n",
        "\n",
        "---\n",
        "\n",
        "![Combination](https://user-images.githubusercontent.com/10710980/55315501-1e6ede80-5475-11e9-8fa4-7dffe19ade8a.PNG)"
      ]
    },
    {
      "metadata": {
        "id": "DYqpSpiOJbtX",
        "colab_type": "text"
      },
      "cell_type": "markdown",
      "source": [
        "Combination_Example_2.py"
      ]
    },
    {
      "metadata": {
        "id": "pmK5PfENJiyZ",
        "colab_type": "code",
        "colab": {}
      },
      "cell_type": "code",
      "source": [
        "import math;\n",
        "import itertools;\n",
        "\n",
        "def InputKontrol(GirilenSayi):\n",
        "    if not GirilenSayi.isdigit():\n",
        "        return False\n",
        "    elif (int(GirilenSayi) < 2 or int(GirilenSayi) > 15):\n",
        "        return False\n",
        "    else:\n",
        "        return True\n",
        "\n",
        "\n",
        "def factorial(n):\n",
        "    if n==0:\n",
        "        return 1\n",
        "    else:\n",
        "        return n * factorial(n-1)\n",
        "\n",
        "girilen_Sayi=input(\"N adet meyve misafirlere sunulacaktır, N sayısı giriniz Lütfen (2 ile 15 aralığında olmalı)!!\")\n",
        "\n",
        "kontrol_sonucu=InputKontrol(girilen_Sayi)\n",
        "if kontrol_sonucu==True:\n",
        "\n",
        "    int_girilen_Sayi=int(girilen_Sayi)\n",
        "    c_sonucu = factorial(15)/(factorial(15-int_girilen_Sayi)*factorial(int_girilen_Sayi))\n",
        "    print(\"Meyveleri misafirlere %d farklı şekilde sunabiliriz (Kombinasyon Sonucu)\" %c_sonucu)\n",
        "\n",
        "elif kontrol_sonucu==False:\n",
        "    print(\"Lütfen İstenilen Aralıkta Olan (2 ile 15 aralığında) Bir Sayı Girin !!\")"
      ],
      "execution_count": 0,
      "outputs": []
    }
  ]
}