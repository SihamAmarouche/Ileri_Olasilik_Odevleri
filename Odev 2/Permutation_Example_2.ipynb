{
  "nbformat": 4,
  "nbformat_minor": 0,
  "metadata": {
    "colab": {
      "name": "Permutation_Example_2",
      "version": "0.3.2",
      "provenance": [],
      "collapsed_sections": [],
      "include_colab_link": true
    },
    "kernelspec": {
      "name": "python3",
      "display_name": "Python 3"
    }
  },
  "cells": [
    {
      "cell_type": "markdown",
      "metadata": {
        "id": "view-in-github",
        "colab_type": "text"
      },
      "source": [
        "<a href=\"https://colab.research.google.com/github/SihamAmarouche/Ileri_Olasilik_Odevleri/blob/master/Odev%202/Permutation_Example_2.ipynb\" target=\"_parent\"><img src=\"https://colab.research.google.com/assets/colab-badge.svg\" alt=\"Open In Colab\"/></a>"
      ]
    },
    {
      "metadata": {
        "id": "-gEOw2J3ARa-",
        "colab_type": "text"
      },
      "cell_type": "markdown",
      "source": [
        "\n",
        "\n",
        "---\n",
        "\n",
        "\n",
        "***Permütasyon Örneği :***\n",
        "3 öğrenci yuvarlak bir masa etrafında kaç farklı şekilde otururlar?\n",
        "\n",
        "***Çözüm :*** \n",
        "Sıra bizim için önemli olduğundan permütayon formülü kullanılır.\n",
        "\n",
        "\n",
        "---\n",
        "\n",
        "\n",
        "![permutaion](https://user-images.githubusercontent.com/10710980/55314266-76581600-5472-11e9-90e0-f76480fcb7bf.png)"
      ]
    },
    {
      "metadata": {
        "id": "JfjQxKkAFnU4",
        "colab_type": "text"
      },
      "cell_type": "markdown",
      "source": [
        "Permutation_Example_2.py\n"
      ]
    },
    {
      "metadata": {
        "id": "YLI7dooKFuWN",
        "colab_type": "code",
        "colab": {}
      },
      "cell_type": "code",
      "source": [
        "import math;\n",
        "import itertools;\n",
        "\n",
        "\n",
        "def InputKontrol(GirilenSayi):\n",
        "    if not GirilenSayi.isdigit():\n",
        "        return False\n",
        "    else:\n",
        "        return True\n",
        "\n",
        "\n",
        "def factorial(n):\n",
        "    if n==0:\n",
        "        return 1\n",
        "    else:\n",
        "        return n * factorial(n-1)\n",
        "\n",
        "girilen_Sayi=input(\"N adet öğrenci yuvarlak bir masa etrafında oturacaklar, Öğrenci sayısı(N) giriniz Lütfen!!\")\n",
        "\n",
        "kontrol_sonucu=InputKontrol(girilen_Sayi)\n",
        "if kontrol_sonucu==True:\n",
        "\n",
        "    int_girilen_Sayi=int(girilen_Sayi)\n",
        "    p_sonucu = factorial(int_girilen_Sayi-1)\n",
        "    print(\"%d öğrenci masanın etrafında %d farklı şekilde otururlar(Permütasyon Sonucu)\" %(int_girilen_Sayi,p_sonucu))\n",
        "\n",
        "elif kontrol_sonucu==False:\n",
        "    print(\"Lütfen Bir Sayı Giriniz !!\")"
      ],
      "execution_count": 0,
      "outputs": []
    }
  ]
}