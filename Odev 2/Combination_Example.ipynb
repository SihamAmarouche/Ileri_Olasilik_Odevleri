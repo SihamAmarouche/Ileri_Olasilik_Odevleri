{
  "nbformat": 4,
  "nbformat_minor": 0,
  "metadata": {
    "colab": {
      "name": "Combination_Example.ipynb",
      "version": "0.3.2",
      "provenance": [],
      "collapsed_sections": [],
      "include_colab_link": true
    },
    "kernelspec": {
      "name": "python3",
      "display_name": "Python 3"
    }
  },
  "cells": [
    {
      "cell_type": "markdown",
      "metadata": {
        "id": "view-in-github",
        "colab_type": "text"
      },
      "source": [
        "<a href=\"https://colab.research.google.com/github/SihamAmarouche/Ileri_Olasilik_Odevleri/blob/master/Odev%202/Combination_Example.ipynb\" target=\"_parent\"><img src=\"https://colab.research.google.com/assets/colab-badge.svg\" alt=\"Open In Colab\"/></a>"
      ]
    },
    {
      "metadata": {
        "id": "OvYnanXcwXNR",
        "colab_type": "text"
      },
      "cell_type": "markdown",
      "source": [
        "\n",
        "\n",
        "\n",
        "---\n",
        "\n",
        "\n",
        "###Kombinasyon :\n",
        "\n",
        "n elemanlı bir kümenin elemanları ile oluşturulacak r elemanlı farklı grupların sayısı n'nin r'li kombinasyonu olarak adlandırılır n'nin r'li kombinasyonu C (n, r) veya şeklinde gösterilir.\n",
        "n elemanlı bir kümenin r'li permütasyonlarında elemanların kendi aralarında sıralanışı önemlidir. Oysa n elemanlı bir kümenin r'li kombinasyonunda r tane elemanın kendi arasındaki sıralanışı önemli değildir.\n",
        "kombinasyon aşağıdaki formülle hesaplanır :\n",
        "\n",
        "![kombinasyon](https://user-images.githubusercontent.com/10710980/54829894-757ff100-4cc8-11e9-8b15-b1d44cc4b0ce.jpg)\n",
        "\n",
        "***Örnek :***\n",
        "\n",
        "8 kişilik bir sınıfımız mevcuttur. Teknoloji yarışmasına katılmak için bir grup oluşturmamız gerekiyor, r kişilik bir grup oluşturmak istersek bu grubu kaç farklı şekilde kurabiliriz ?\n",
        "\n",
        "***Cevap:***\n",
        "\n",
        "Bu örnek için eleman sırası bizim için önemli değildir, bundan dolayı kombinasyon formülü ile çözülür.\n",
        "\n",
        "---\n",
        "\n",
        "\n",
        "***Script Code :***\n",
        "\n",
        "Combination_Example.py"
      ]
    },
    {
      "metadata": {
        "id": "cC4F-MvA0v7_",
        "colab_type": "code",
        "colab": {}
      },
      "cell_type": "code",
      "source": [
        "import math\n",
        "import itertools\n",
        "\n",
        "def InputKontrol(GirilenSayi):\n",
        "    if not GirilenSayi.isdigit():\n",
        "        return False\n",
        "    elif (int(GirilenSayi)<2 or int(GirilenSayi)>8):\n",
        "        return False\n",
        "    else:\n",
        "        return True\n",
        "\n",
        "def factorial(n):\n",
        "    if n==0:\n",
        "        return 1\n",
        "    else:\n",
        "        return n*factorial(n-1)\n",
        "\n",
        "kisi_liste=[\"Ahmet\",\"Salih\",\"Sena\",\"Nursel\",\"Osman\",\"Berk\",\"Merve\",\"Suhap\"]\n",
        "\n",
        "print(\"Bir Sınıf 8 kişiden oluşmakta, Yarışma için bir grup oluşturmanız gerek yarışmaya kaç kişi alacaksınız ? \")\n",
        "girilen_Sayi=input(\"(Lütfen 2 ile 8 aralığında bir sayı olsun): \")\n",
        "\n",
        "kontrol_sonucu=InputKontrol(girilen_Sayi)\n",
        "if kontrol_sonucu==True:\n",
        "    combinations = itertools.combinations(kisi_liste, int(girilen_Sayi))\n",
        "\n",
        "    for c in combinations:\n",
        "        print (c)\n",
        "\n",
        "    p_sonucu = factorial(len(kisi_liste)) /factorial(len(kisi_liste) - int(girilen_Sayi))\n",
        "    c_sonucu = p_sonucu/factorial(int(girilen_Sayi))\n",
        "\n",
        "    print(\"Oluşturulabilecek Grup Sayısı(Kombinasyon Sonucu): %d\" %c_sonucu)\n",
        "\n",
        "elif kontrol_sonucu==False:\n",
        "    print(\"Lütfen İstenilen Aralıkta Olan(2 ile 8 aralığında) Bir Sayı Girin !!\")\n"
      ],
      "execution_count": 0,
      "outputs": []
    },
    {
      "metadata": {
        "id": "Pjc9B5LkzkFk",
        "colab_type": "text"
      },
      "cell_type": "markdown",
      "source": [
        "####Permütasyon ve Kombinasyon ile aralarındaki fark ve formül karşılaşması :\n",
        "\n",
        "Permütasyonda dizi elemanların sırası önemlidir, Kombinasyonda ise sıra önemli olmadığı durumdur.\n",
        "Formülleri aşağıdaki gibidir :\n",
        "\n",
        "![per_kombinasyon_ (2)](https://user-images.githubusercontent.com/10710980/54828596-9561e580-4cc5-11e9-8656-ccbc20b37fb3.jpg)\n"
      ]
    }
  ]
}