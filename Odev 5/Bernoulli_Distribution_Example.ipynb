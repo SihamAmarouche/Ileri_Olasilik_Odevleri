{
  "nbformat": 4,
  "nbformat_minor": 0,
  "metadata": {
    "colab": {
      "name": "Bernoulli_Distribution_Example.ipynb",
      "version": "0.3.2",
      "provenance": [],
      "collapsed_sections": [],
      "include_colab_link": true
    },
    "kernelspec": {
      "name": "python3",
      "display_name": "Python 3"
    }
  },
  "cells": [
    {
      "cell_type": "markdown",
      "metadata": {
        "id": "view-in-github",
        "colab_type": "text"
      },
      "source": [
        "<a href=\"https://colab.research.google.com/github/SihamAmarouche/Ileri_Olasilik_Odevleri/blob/master/Odev%205/Bernoulli_Distribution_Example.ipynb\" target=\"_parent\"><img src=\"https://colab.research.google.com/assets/colab-badge.svg\" alt=\"Open In Colab\"/></a>"
      ]
    },
    {
      "cell_type": "markdown",
      "metadata": {
        "id": "IsNa4c9-EkDB",
        "colab_type": "text"
      },
      "source": [
        "\n",
        "\n",
        "---\n",
        "\n",
        "\n",
        "### Bernoulli Dağılımı :\n",
        "\n",
        "Bir deneyde basarı ve basarısızlık diye nitelendirilen iki sonuçla ilgilenildiginde bu deneye (iki sonuçlu) Bernoulli deneyi denir.\n",
        "\n",
        "####Basarı olasılıgı ⇒ p, (0 < p < 1) \n",
        "\n",
        "####Basarısızlık olasılıgı ⇒ 1 - p = q \n",
        "\n",
        "![image](https://user-images.githubusercontent.com/10710980/58332215-5f66ec00-7e43-11e9-90a1-f2f45d007842.png)\n",
        "\n",
        "\n",
        "---\n",
        "#### Matematiksel tanımlama :\n",
        "Bu dağılımın olasılık kütle fonksiyonu f şöyle ifade edilir:\n",
        "![image](https://user-images.githubusercontent.com/10710980/58332655-57f41280-7e44-11e9-8fb4-d867623a1c6e.png)\n",
        "\n",
        "#### Example :\n",
        "Bir ilaç bir fabrika tarafından üretilmektedir, Bu ilaca ait 75 ürün üretildi. Üretilen tüm ilaçlar aynı depoda saklandığına göre bu depoda bulunan ilaçlar %.0.27'si bouzktur %0.73'ü sağlam ilaçlardır.\n",
        "Buna göre Bernoulli dagılımının olasılık fonksiyonu hesaplayın !!!\n",
        "\n",
        "![image](https://user-images.githubusercontent.com/10710980/58332415-d2706280-7e43-11e9-8e09-f02fad99e482.png)\n",
        "\n",
        "#### Örneğin Kodları:\n",
        "Bernoulli_Distribution_Example.py"
      ]
    },
    {
      "cell_type": "code",
      "metadata": {
        "id": "jQE-LbnvHjhF",
        "colab_type": "code",
        "colab": {
          "base_uri": "https://localhost:8080/",
          "height": 619
        },
        "outputId": "a920c132-48b7-44e8-9110-9b5fbdd6a59a"
      },
      "source": [
        "from scipy.stats import bernoulli\n",
        "import seaborn as sns\n",
        "import matplotlib.pyplot as plt\n",
        "from prettytable import PrettyTable\n",
        "from math import sqrt\n",
        "import warnings\n",
        "warnings.filterwarnings(\"ignore\")\n",
        "\n",
        "Round = lambda x, n: eval('\"%.' + str(int(n)) + 'f\" % ' + repr(x))\n",
        "\n",
        "urun_toplam=75\n",
        "saglam_adeti=55\n",
        "bozuk_adeti=20\n",
        "x_1=0\n",
        "x_2=1\n",
        "p_saglam = saglam_adeti/urun_toplam\n",
        "p_bozuk = bozuk_adeti/urun_toplam\n",
        "\n",
        "print(\"Bir ilaç bir fabrika tarafından üretilmektedir, Bu ilaca ait 75 ürün üretildi. \\n\"\n",
        "      \"Üretilen tüm ilaçlar aynı depoda saklandığına göre bu depoda bulunan ilaçlar %.2f'i bouzktur %.2f'si sağlam ilaçlardır.\\n\"\n",
        "      \"Buna göre Bernoulli dagılımının olasılık fonksiyonu hesaplayın !!!!\"%(p_bozuk,p_saglam))\n",
        "\n",
        "print(\"\")\n",
        "print(\"Sağlam olma Olasılığı ==> P(X = x) = p^x * (1-p)^1-x = P(X=0) = p_bouzk^x * p_saglam^1-x =  %.2f\" %((p_bozuk**x_1)*(p_saglam**(1-x_1))))\n",
        "print(\"Bozuk Olma Olasılığı ==> P(X = x) = p^x * (1-p)^1-x = P(X=1) = p_saglam^x * p_bouzk^1-x =  %.2f\" %((p_bozuk**x_2)*(p_saglam**(1-x_2))))\n",
        "\n",
        "table = PrettyTable(['x','0','1'])\n",
        "table.add_row(['P(X = x)','1-p','p'])\n",
        "\n",
        "print(table)\n",
        "print(\"\")\n",
        "\n",
        "table = PrettyTable(['x','0 (Sağlam olması)','1 (Bozuk olması)'])\n",
        "table.add_row(['P(X = x)',Round(p_saglam,2),Round(p_bozuk,2)])\n",
        "\n",
        "print(table)\n",
        "print(\"\")\n",
        "Beklenen_Deger = x_1*p_saglam + x_2*p_bozuk\n",
        "EX_XKaresi= sqrt(x_1)*p_saglam + sqrt(x_2)*p_bozuk\n",
        "Varyans= EX_XKaresi - sqrt(Beklenen_Deger)\n",
        "\n",
        "print(\"Beklenen Değer ==> E[X] = ΣxP(X=x) = %.3f\" %Beklenen_Deger)\n",
        "print(\"Varyans Değeri ==> Var[X] = E[X^2] - (E[X])^2 = %.3f \" %Varyans)\n",
        "\n",
        "\n",
        "data_bern = bernoulli.rvs(size=10000,p = p_bozuk)\n",
        "\n",
        "ax= sns.distplot(data_bern,\n",
        "                 kde=False,\n",
        "                 color=\"skyblue\",\n",
        "                 hist_kws={\"linewidth\": 15,'alpha':1})\n",
        "ax.set(xlabel='Bernoulli Distribution', ylabel='Frequency')\n",
        "\n",
        "plt.show()"
      ],
      "execution_count": 1,
      "outputs": [
        {
          "output_type": "stream",
          "text": [
            "Bir ilaç bir fabrika tarafından üretilmektedir, Bu ilaca ait 75 ürün üretildi. \n",
            "Üretilen tüm ilaçlar aynı depoda saklandığına göre bu depoda bulunan ilaçlar 0.27'i bouzktur 0.73'si sağlam ilaçlardır.\n",
            "Buna göre Bernoulli dagılımının olasılık fonksiyonu hesaplayın !!!!\n",
            "\n",
            "Sağlam olma Olasılığı ==> P(X = x) = p^x * (1-p)^1-x = P(X=0) = p_bouzk^x * p_saglam^1-x =  0.73\n",
            "Bozuk Olma Olasılığı ==> P(X = x) = p^x * (1-p)^1-x = P(X=1) = p_saglam^x * p_bouzk^1-x =  0.27\n",
            "+----------+-----+---+\n",
            "|    x     |  0  | 1 |\n",
            "+----------+-----+---+\n",
            "| P(X = x) | 1-p | p |\n",
            "+----------+-----+---+\n",
            "\n",
            "+----------+-------------------+------------------+\n",
            "|    x     | 0 (Sağlam olması) | 1 (Bozuk olması) |\n",
            "+----------+-------------------+------------------+\n",
            "| P(X = x) |        0.73       |       0.27       |\n",
            "+----------+-------------------+------------------+\n",
            "\n",
            "Beklenen Değer ==> E[X] = ΣxP(X=x) = 0.267\n",
            "Varyans Değeri ==> Var[X] = E[X^2] - (E[X])^2 = -0.250 \n"
          ],
          "name": "stdout"
        },
        {
          "output_type": "display_data",
          "data": {
            "image/png": "[encoded data removed]",
            "text/plain": [
              "<Figure size 432x288 with 1 Axes>"
            ]
          },
          "metadata": {
            "tags": []
          }
        }
      ]
    }
  ]
}