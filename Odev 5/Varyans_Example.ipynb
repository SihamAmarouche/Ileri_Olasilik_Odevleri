{
  "nbformat": 4,
  "nbformat_minor": 0,
  "metadata": {
    "colab": {
      "name": "Varyans_Example.ipynb",
      "version": "0.3.2",
      "provenance": [],
      "collapsed_sections": [],
      "include_colab_link": true
    },
    "kernelspec": {
      "name": "python3",
      "display_name": "Python 3"
    }
  },
  "cells": [
    {
      "cell_type": "markdown",
      "metadata": {
        "id": "view-in-github",
        "colab_type": "text"
      },
      "source": [
        "<a href=\"https://colab.research.google.com/github/SihamAmarouche/Ileri_Olasilik_Odevleri/blob/master/Odev%205/Varyans_Example.ipynb\" target=\"_parent\"><img src=\"https://colab.research.google.com/assets/colab-badge.svg\" alt=\"Open In Colab\"/></a>"
      ]
    },
    {
      "cell_type": "markdown",
      "metadata": {
        "id": "mMWIINNwPJT9",
        "colab_type": "text"
      },
      "source": [
        "\n",
        "\n",
        "---\n",
        "\n",
        "\n",
        "\n",
        "#### Varyans Tanımı :\n",
        "\n",
        "Varyans bir rassal değişken, bir olasılık dağılımı veya örnekleme için istatistiksel yayılımın, mümkün bütün değerlerin beklenen değer veya ortalamadan uzaklıklarının karelerinin ortalaması şeklinde bulunan bir ölçüdür. \n",
        "\n",
        "---\n",
        "#### Matematiksel tanımlama :\n",
        "X değişkeninin beklenen değeri μ = E(X) olmak üzere, varyans şöyle tanımlanır :\n",
        "![Adsız](https://user-images.githubusercontent.com/10710980/58406533-80615400-8072-11e9-812c-1166af7c6612.png)\n",
        "\n",
        "\n",
        "---\n",
        "\n",
        "\n",
        "#### Example :\n",
        "Bir otomobil bayisinin günlük araba satışlarının dağılımının aşağıdaki tabloda gösterildiği gibidir :\n",
        "Bu dağılışa göre bayinin satışlarının beklenen değerini ve varyansını hesaplayınız .\n",
        "\n",
        "![image](https://user-images.githubusercontent.com/10710980/58410180-4dbb5980-807a-11e9-8e46-a4f82075cf3e.png)\n",
        "\n",
        "#### Örneğin Kodları:\n",
        "Varyans_Example.py"
      ]
    },
    {
      "cell_type": "code",
      "metadata": {
        "id": "EidiYkhhm1-t",
        "colab_type": "code",
        "colab": {
          "base_uri": "https://localhost:8080/",
          "height": 319
        },
        "outputId": "432209e9-cccf-4c5e-e233-bba5bbbc0748"
      },
      "source": [
        "from prettytable import PrettyTable\n",
        "from math import sqrt\n",
        "from math import pow\n",
        "\n",
        "Araba_Sayisi=[0,1,2,3,4,5,6,7]\n",
        "Satis_Olasiligi=[0.02,0.08,0.15,0.19,0.24,0.17,0.10,0.04]\n",
        "print(\"Bir otomobil bayisinin günlük araba satışlarının dağılımının aşağıdaki tabloda gösterildiği gibidir :\")\n",
        "print(\"\")\n",
        "\n",
        "table = PrettyTable(['X (Araba Sayısı)', 'P(X)'])\n",
        "\n",
        "for i in range(8):\n",
        "    table.add_row([Araba_Sayisi[i],Satis_Olasiligi[i]])\n",
        "\n",
        "print(table)\n",
        "print(\"\")\n",
        "\n",
        "Beklenen_Deger=0\n",
        "EX_XKaresi=0\n",
        "\n",
        "for i in range(8):\n",
        "    Beklenen_Deger += Araba_Sayisi[i]*Satis_Olasiligi[i]\n",
        "for i in range(8):\n",
        "    EX_XKaresi += pow(Araba_Sayisi[i],2)*Satis_Olasiligi[i]\n",
        "\n",
        "Varyans = EX_XKaresi - pow(Beklenen_Deger,2)\n",
        "\n",
        "print(\"Bu dağılışa göre bayinin satışlarının beklenen değerini ve varyansını hesaplayınız !!! \")\n",
        "print(\"E[X] = ΣxP(X=x) = %.3f\" %Beklenen_Deger)\n",
        "print(\"Var[X] = E[X^2] - (E[X])^2 = %.3f \" %Varyans)"
      ],
      "execution_count": 1,
      "outputs": [
        {
          "output_type": "stream",
          "text": [
            "Bir otomobil bayisinin günlük araba satışlarının dağılımının aşağıdaki tabloda gösterildiği gibidir :\n",
            "\n",
            "+------------------+------+\n",
            "| X (Araba Sayısı) | P(X) |\n",
            "+------------------+------+\n",
            "|        0         | 0.02 |\n",
            "|        1         | 0.08 |\n",
            "|        2         | 0.15 |\n",
            "|        3         | 0.19 |\n",
            "|        4         | 0.24 |\n",
            "|        5         | 0.17 |\n",
            "|        6         | 0.1  |\n",
            "|        7         | 0.04 |\n",
            "+------------------+------+\n",
            "\n",
            "Bu dağılışa göre bayinin satışlarının beklenen değerini ve varyansını hesaplayınız !!! \n",
            "E[X] = ΣxP(X=x) = 3.640\n",
            "Var[X] = E[X^2] - (E[X])^2 = 2.790 \n"
          ],
          "name": "stdout"
        }
      ]
    }
  ]
}