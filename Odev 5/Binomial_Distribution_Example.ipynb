{
  "nbformat": 4,
  "nbformat_minor": 0,
  "metadata": {
    "colab": {
      "name": "Binomial_Distribution_Example.ipynb",
      "version": "0.3.2",
      "provenance": [],
      "collapsed_sections": [],
      "include_colab_link": true
    },
    "kernelspec": {
      "name": "python3",
      "display_name": "Python 3"
    }
  },
  "cells": [
    {
      "cell_type": "markdown",
      "metadata": {
        "id": "view-in-github",
        "colab_type": "text"
      },
      "source": [
        "<a href=\"https://colab.research.google.com/github/SihamAmarouche/Ileri_Olasilik_Odevleri/blob/master/Odev%205/Binomial_Distribution_Example.ipynb\" target=\"_parent\"><img src=\"https://colab.research.google.com/assets/colab-badge.svg\" alt=\"Open In Colab\"/></a>"
      ]
    },
    {
      "cell_type": "markdown",
      "metadata": {
        "id": "WwW-nfSpIztT",
        "colab_type": "text"
      },
      "source": [
        "\n",
        "\n",
        "---\n",
        "### Binomial Dağılımı :\n",
        "\n",
        "Basarı olasılıgı p olan bir Bernoulli denemesinin aynı sartlar altında (bagımsız olarak)\n",
        "n kez tekrarlanması ile olusan deneydir.\n",
        "\n",
        "\n",
        "---\n",
        "\n",
        "#### Matematiksel tanımlama :\n",
        "\n",
        "Matematik notasyon olarak bir rassal değişken X binom dağılım gösterirse şöyle ifade edilir:\n",
        "\n",
        "#### X ~ B(n,p)\n",
        "\n",
        "Binomial dagılımının olasılık fonksiyonu: \n",
        "\n",
        "![image](https://user-images.githubusercontent.com/10710980/58333459-25e3b000-7e46-11e9-8b9a-2fb34810c922.png)\n",
        "\n",
        "Burada k=0,1,2,3,...n ve \n",
        "\n",
        "![image](https://user-images.githubusercontent.com/10710980/58333558-5c212f80-7e46-11e9-815b-15ebedbed92e.png)\n",
        "\n",
        "\n",
        "*   Beklenen Değer : E[X]= np\n",
        "*   Varyans Değeri : Var(X) = np(1-p)\n",
        "\n",
        "---\n",
        "\n",
        "#### Example :\n",
        "Bir lokantada bulunan 20 kisişinin servislerden menuniyetsizliğin oranı 0.20'dır. Rastgele seçilen 5 kişiden 2'si memnuniyetsiz kalma olasılığı bulunuz aynı zamanda Binomial dağılımı gösteriniz !!\n",
        "\n",
        "![image](https://user-images.githubusercontent.com/10710980/58333865-08631600-7e47-11e9-8b2b-e0cc605a7101.png)\n",
        "\n",
        "**Bu Örneğin Binomial Dağılımı Aşağıdaki Gibidir:**\n",
        "![image](https://user-images.githubusercontent.com/10710980/58334110-84f5f480-7e47-11e9-9c47-44a49ab4dab5.png)\n",
        "\n",
        "#### Örneğin Kodları:\n",
        "Binomial_Distribution_Example.py"
      ]
    },
    {
      "cell_type": "code",
      "metadata": {
        "id": "jGSp6YOyNvMr",
        "colab_type": "code",
        "colab": {
          "base_uri": "https://localhost:8080/",
          "height": 602
        },
        "outputId": "b20165aa-ef48-4f9c-8f12-412874f2d51b"
      },
      "source": [
        "from scipy.stats import binom\n",
        "import seaborn as sb\n",
        "import matplotlib.pyplot as plt\n",
        "from prettytable import PrettyTable\n",
        "from math import pow\n",
        "import warnings\n",
        "warnings.filterwarnings(\"ignore\")\n",
        "\n",
        "def factorial(n):\n",
        "    if n==0:\n",
        "        return 1\n",
        "    else:\n",
        "        return n*factorial(n-1)\n",
        "\n",
        "def Combination(n,k):\n",
        "    result=factorial(n)/(factorial(n-k)*factorial(k))\n",
        "    return result\n",
        "\n",
        "print(\"Bir lokantada bulunan 20 kisişinin servislerden menuniyetsizliğin oranı 0.20'dır.\\n\"\n",
        "      \"Rastgele seçilen 5 kişiden 2'si memnuniyetsiz kalma olasılığı bulunuz aynı zamanda \\n\"\n",
        "      \"Binomial dağılımı gösteriniz !!\")\n",
        "print(\"\")\n",
        "\n",
        "n_kisi=5\n",
        "k=2\n",
        "p=0.20\n",
        "q=1-p\n",
        "\n",
        "table = PrettyTable(['x','0 (Memnun kalmasi)','1 (Memnuniyetsiz kalmasi)'])\n",
        "table.add_row(['P(X = x)','0.80 (1-p)','0.20 (p)'])\n",
        "\n",
        "print(table)\n",
        "print(\"\")\n",
        "\n",
        "print(\"P(X = k) = nCk * p^k * (1-p)^n-k = (n!/(k! * (n-k)!) * p^k * (1-p)^n-k\")\n",
        "kombinasyon_Sonucu = factorial(n_kisi)/(factorial(n_kisi-k)*factorial(k))\n",
        "Sonuc = kombinasyon_Sonucu * pow(p,k) * pow(q,n_kisi-k)\n",
        "print(\"5 kişiden 2'si memnuniyetsiz kalma olasılığı ==> P(X = 2) = 5C2 * 0.2^2 * (1-0.2)^3 = %.2f\" %Sonuc)\n",
        "print(\"P(X = 4) = 5C4 * 0.2^4 * (1-0.2)^1 = %.2f\" %(Combination(n_kisi,4)* pow(p,4) * pow(q,n_kisi-4)))\n",
        "print(\"P(X = 3) = 5C3 * 0.2^3 * (1-0.2)^2 = %.2f\" %(Combination(n_kisi,3)* pow(p,3) * pow(q,n_kisi-3)))\n",
        "print(\"P(X = 1) = 5C1 * 0.2^1 * (1-0.2)^4 = %.2f\" %(Combination(n_kisi,1)* pow(p,1) * pow(q,n_kisi-1)))\n",
        "print(\"P(X = 0) = 5C0 * 0.2^0 * (1-0.2)^5 = %.2f\" %(Combination(n_kisi,0)* pow(p,0) * pow(q,n_kisi-0)))\n",
        "\n",
        "print(\"\")\n",
        "\n",
        "Beklenen_Deger = n_kisi*p\n",
        "Varyans = n_kisi*p*q\n",
        "print(\"Beklenen Değer ==> E[X] = n*p = %.3f\" %Beklenen_Deger)\n",
        "print(\"Varyans Değeri ==> Var[X] = n*p*(1-p) = %.3f \" %Varyans)\n",
        "\n",
        "\n",
        "data_binom = binom.rvs(n=n_kisi,p=p,loc=0,size=1000)\n",
        "ax = sb.distplot(data_binom,\n",
        "                  kde=False,\n",
        "                  color='blue',\n",
        "                  hist_kws={\"linewidth\": 15,'alpha':1})\n",
        "ax.set(xlabel='Binomial', ylabel='Frequency')\n",
        "\n",
        "plt.show()"
      ],
      "execution_count": 1,
      "outputs": [
        {
          "output_type": "stream",
          "text": [
            "Bir lokantada bulunan 20 kisişinin servislerden menuniyetsizliğin oranı 0.20'dır.\n",
            "Rastgele seçilen 5 kişiden 2'si memnuniyetsiz kalma olasılığı bulunuz aynı zamanda \n",
            "Binomial dağılımı gösteriniz !!\n",
            "\n",
            "+----------+--------------------+---------------------------+\n",
            "|    x     | 0 (Memnun kalmasi) | 1 (Memnuniyetsiz kalmasi) |\n",
            "+----------+--------------------+---------------------------+\n",
            "| P(X = x) |     0.80 (1-p)     |          0.20 (p)         |\n",
            "+----------+--------------------+---------------------------+\n",
            "\n",
            "P(X = k) = nCk * p^k * (1-p)^n-k = (n!/(k! * (n-k)!) * p^k * (1-p)^n-k\n",
            "5 kişiden 2'si memnuniyetsiz kalma olasılığı ==> P(X = 2) = 5C2 * 0.2^2 * (1-0.2)^3 = 0.20\n",
            "P(X = 4) = 5C4 * 0.2^4 * (1-0.2)^1 = 0.01\n",
            "P(X = 3) = 5C3 * 0.2^3 * (1-0.2)^2 = 0.05\n",
            "P(X = 1) = 5C1 * 0.2^1 * (1-0.2)^4 = 0.41\n",
            "P(X = 0) = 5C0 * 0.2^0 * (1-0.2)^5 = 0.33\n",
            "\n",
            "Beklenen Değer ==> E[X] = n*p = 1.000\n",
            "Varyans Değeri ==> Var[X] = n*p*(1-p) = 0.800 \n"
          ],
          "name": "stdout"
        },
        {
          "output_type": "display_data",
          "data": {
            "image/png": "[encoded data removed]",
            "text/plain": [
              "<Figure size 432x288 with 1 Axes>"
            ]
          },
          "metadata": {
            "tags": []
          }
        }
      ]
    }
  ]
}