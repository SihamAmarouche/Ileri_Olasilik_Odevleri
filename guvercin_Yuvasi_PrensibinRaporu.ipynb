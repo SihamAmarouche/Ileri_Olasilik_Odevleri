{
  "nbformat": 4,
  "nbformat_minor": 0,
  "metadata": {
    "colab": {
      "name": "guvercin_Yuvasi_PrensibinRaporu.ipynb",
      "version": "0.3.2",
      "provenance": [],
      "include_colab_link": true
    },
    "kernelspec": {
      "name": "python3",
      "display_name": "Python 3"
    }
  },
  "cells": [
    {
      "cell_type": "markdown",
      "metadata": {
        "id": "view-in-github",
        "colab_type": "text"
      },
      "source": [
        "<a href=\"https://colab.research.google.com/github/SihamAmarouche/Ileri_Olasilik_Odevleri/blob/master/guvercin_Yuvasi_PrensibinRaporu.ipynb\" target=\"_parent\"><img src=\"https://colab.research.google.com/assets/colab-badge.svg\" alt=\"Open In Colab\"/></a>"
      ]
    },
    {
      "metadata": {
        "id": "5zAEiO32C2R3",
        "colab_type": "text"
      },
      "cell_type": "markdown",
      "source": [
        "\n",
        "---\n",
        "\n",
        "\n",
        " **GÜVERCİN YUVASI PRENSİBİ :**\n",
        "\n",
        "Bilgisayar bilimleri de dahil olmak üzere pek çok matematik temelli bilim ve mühendislik alanında kullanılan oldukça basit bir umdedir. İsmini güvercin yuvalarından alan bu kaideye göre yuva sayısından fazla güvercin varsa, ve bütün güvercinler bir yuvaya girecekse, en az bir yuvaya birden fazla güvercin girmek zorundadır.\n",
        "\n",
        "\n",
        "**Matematiksel Gösterimi :**\n",
        "\n",
        "Bu durumu sembollerle göstermemiz gerekirse n tane yuva ve m tane güvercin için : m > n durumunda en az bir yuvada birden fazla güvercin bulunmalıdır.\n",
        "\n",
        "---\n"
      ]
    },
    {
      "metadata": {
        "id": "ilZs5iyZDei4",
        "colab_type": "text"
      },
      "cell_type": "markdown",
      "source": [
        "![pigeon](https://user-images.githubusercontent.com/10710980/54494415-121e4980-48eb-11e9-95e9-33fc19a288f2.png)\n",
        "\n",
        "\n",
        "\n",
        "---\n",
        "\n",
        "Örnek :\n",
        "\n",
        "Bir Odada 8 kişi toplandığını düşünelim, en az kaç kişinin doğum günü haftanın aynı güne denk gelecektir ? \n",
        "\n",
        "Cevap : 2 kişidir.\n",
        "\n",
        "=============\n",
        "\n",
        "\n",
        "Çözüm :\n",
        "\n",
        "8 kişi haftanın 7 gününe ayrılacaktır.\n",
        "Güvercin Yuvası Prensibine uyarlandığında güvercin sayısı kişi sayısı ile; haftanın 7 günü ise yuva sayısı ile özdeleştirilmiştir.\n",
        "\n",
        "Kişi sayısı, haftanın günlerin sayısına (yani burada 7'e) bölünür. Sonra bulunan değer yukarıya yuvarlanır.\n",
        "\n",
        "=============\n",
        "\n",
        "---\n",
        "\n"
      ]
    },
    {
      "metadata": {
        "id": "1sUDGeA_E8Ox",
        "colab_type": "text"
      },
      "cell_type": "markdown",
      "source": [
        "#### Yukarıdaki örneğin matematiksel çözümü :\n",
        "\n",
        "Ornek_cozumu.py\n",
        "\n",
        "\n",
        "```\n",
        "math.ceil(Güvercin sayısı / Yuva sayısı)= math.ceil(Kişi sayısı / Haftanın gün sayısı)\n",
        "math.ceil(8/7)=2\n",
        "\n",
        "```\n",
        "\n",
        "####Seçtiğim Senaryonun Python Kodları Aşağıdaki Gibidir:\n",
        "\n",
        "Odev1.py\n"
      ]
    },
    {
      "metadata": {
        "id": "1NM7mPM9Ggd1",
        "colab_type": "code",
        "outputId": "a4016f05-aa47-4c92-8cce-0a261db55814",
        "colab": {
          "base_uri": "https://localhost:8080/",
          "height": 67
        }
      },
      "cell_type": "code",
      "source": [
        "\n",
        "# Kutuphaneler\n",
        "import math;\n",
        "\n",
        "# Fonksiyonlar\n",
        "\n",
        "def InputKontrolu(GirilenKisiSayisi):  # Bir harf girildiğinde veya bir negatif sayı girildiğinde matematik\n",
        "    # işlemleri yapılmaz hata verir ve kullanıcıdan  bir daha giriş yapılmasını istenir.\n",
        "    value = GirilenKisiSayisi\n",
        "    if not value.isdigit():  # Girilen değer bir sayı olup olmadığını kontrol ediliyor\n",
        "        return False\n",
        "    elif (int(value) == 0):\n",
        "        return 3\n",
        "    elif (int(value) < 7) or (int(value) > 500):  # Verilen aralık : 7 ile 500 kişi arasında olması kontrolu\n",
        "        return False\n",
        "    else:\n",
        "        return True\n",
        "\n",
        "\n",
        "# Ana Fonksiyon\n",
        "\n",
        "while True:\n",
        "    print(\"Lütfen 7 ile 500 aralığında bir sayı giriniz, Programı durdurmak için 0 numarasına basınız!!\")\n",
        "    Kisi_Sayisi = input(\"Odada toplamda kaç kişi bulunmakta ? \")\n",
        "\n",
        "    if InputKontrolu(\n",
        "            Kisi_Sayisi) == True:  # Kullanıcı tarafindan girilen sayı kriterlerin içinde ise: Güvercin Yuvası Prensibi Uygulanıyor ve odadaki toplanan kişi sayısı haftanın 7 gününe bölünür\n",
        "        result = (math.ceil(int(Kisi_Sayisi) / 7.0))  # 7.0 değer haftanın günlerine ait\n",
        "        print(\"Bu grupta en az %d kişinin doğum günü haftanın aynı güne denk gelecektir !!\" %result)\n",
        "    elif InputKontrolu(Kisi_Sayisi) == 3:\n",
        "        print(\"Program Durduruldu !!\")\n",
        "        break;\n",
        "    else:\n",
        "        print(\"\\nLütfen istenilen aralıkta bir sayı giriniz!!\")\n",
        "    print(\"\\n\")\n",
        "\n"
      ],
      "execution_count": 0,
      "outputs": [
        {
          "output_type": "stream",
          "text": [
            "Lütfen 7 ile 500 aralığında bir sayı giriniz, Programı durdurmak için 0 numarasına basınız!!\n",
            "Odada toplamda kaç kişi bulunmakta ? 0\n",
            "Program Durduruldu !!\n"
          ],
          "name": "stdout"
        }
      ]
    },
    {
      "metadata": {
        "id": "YiBye5fPRtW0",
        "colab_type": "text"
      },
      "cell_type": "markdown",
      "source": [
        "####Referanslar :\n",
        "* http://bilgisayarkavramlari.sadievrenseker.com/2009/12/10/guvercin-yuvasi-kaidesi-pigeonhole-principle/\n",
        "* https://www.matematiksel.org/guvercin-yuvasi-prensibi/"
      ]
    }
  ]
}